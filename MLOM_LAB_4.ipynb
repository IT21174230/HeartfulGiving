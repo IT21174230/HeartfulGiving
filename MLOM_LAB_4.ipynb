{
  "cells": [
    {
      "cell_type": "markdown",
      "metadata": {
        "id": "view-in-github",
        "colab_type": "text"
      },
      "source": [
        "<a href=\"https://colab.research.google.com/github/IT21174230/HeartfulGiving/blob/main/MLOM_LAB_4.ipynb\" target=\"_parent\"><img src=\"https://colab.research.google.com/assets/colab-badge.svg\" alt=\"Open In Colab\"/></a>"
      ]
    },
    {
      "cell_type": "markdown",
      "metadata": {
        "id": "f62l7wTsFkcc"
      },
      "source": [
        "**CREATING A CONVOLUTIONAL NEURAL NETWORK**"
      ]
    },
    {
      "cell_type": "code",
      "execution_count": null,
      "metadata": {
        "id": "u8GvW_0xFw6R"
      },
      "outputs": [],
      "source": [
        "import tensorflow as tf\n",
        "from tensorflow import keras"
      ]
    },
    {
      "cell_type": "code",
      "execution_count": null,
      "metadata": {
        "colab": {
          "base_uri": "https://localhost:8080/"
        },
        "id": "OY-8A3WAJVc0",
        "outputId": "edd8eb5b-0628-4899-c911-069a2938500d"
      },
      "outputs": [
        {
          "output_type": "stream",
          "name": "stdout",
          "text": [
            "Mounted at /content/drive\n"
          ]
        }
      ],
      "source": [
        "from google.colab import drive\n",
        "drive.mount('/content/drive')"
      ]
    },
    {
      "cell_type": "code",
      "execution_count": null,
      "metadata": {
        "id": "7f1Z6pbPIprE"
      },
      "outputs": [],
      "source": [
        "train_path='/content/drive/MyDrive/Cat&Dog Dataset/Training_data'\n",
        "valid_path='/content/drive/MyDrive/Cat&Dog Dataset/Testing_data'"
      ]
    },
    {
      "cell_type": "code",
      "execution_count": null,
      "metadata": {
        "id": "AXYDmNdXJgBI"
      },
      "outputs": [],
      "source": [
        "model=tf.keras.models. Sequential([\n",
        "\n",
        "# Note the input shape is the desired size of the image 300x300 with 3 bytes color\n",
        "\n",
        "# This is the first convolution\n",
        "\n",
        "  tf.keras.layers.Conv2D(filters=16, kernel_size=3, activation='relu', input_shape=(300, 300, 3)),\n",
        "\n",
        "  tf.keras.layers.MaxPooling2D(2, 2),\n",
        "  # downsample to a 2x2 matrix\n",
        "# The second convolution\n",
        "\n",
        "  tf.keras.layers.Conv2D(filters=16, kernel_size=3, activation='relu'),\n",
        "\n",
        "  tf.keras.layers.MaxPooling2D(pool_size=2),\n",
        "\n",
        "# The third convolution\n",
        "\n",
        "  tf.keras.layers.Conv2D (filters=32, kernel_size=3, activation='relu'),\n",
        "\n",
        "  tf.keras.layers.MaxPooling2D(pool_size=2),\n",
        "\n",
        "# The fourth convolution\n",
        "\n",
        "  tf.keras.layers.Conv2D(filters=64, kernel_size=3, activation='relu'),\n",
        "\n",
        "  tf.keras.layers.MaxPooling2D(pool_size=2),\n",
        "\n",
        "# The fifth convolution\n",
        "\n",
        "  tf.keras.layers.Conv2D(filters=64, kernel_size=3, activation='relu'),\n",
        "\n",
        "tf.keras.layers.MaxPooling2D(pool_size=2),\n",
        "\n",
        "# Flatten the results to feed into a DNN\n",
        "\n",
        "tf.keras.layers. Flatten(),\n",
        "\n",
        "# 512 neuron hidden layer\n",
        "\n",
        "tf.keras.layers.Dense (512, activation='relu'),\n",
        "\n",
        "tf.keras.layers.Dropout(0.5),\n",
        "\n",
        "# Only 1 output neuron. It will contain a value from 0-1 where 0 for 1 class ('Cat') and 1 for the other (\"Dog\")\n",
        "\n",
        "tf.keras.layers.Dense (1, activation='sigmoid')\n",
        "\n",
        "])"
      ]
    },
    {
      "cell_type": "code",
      "execution_count": null,
      "metadata": {
        "colab": {
          "base_uri": "https://localhost:8080/"
        },
        "id": "sKbXoph2JgOS",
        "outputId": "cf055b55-8089-49c1-c633-f2290a432719"
      },
      "outputs": [
        {
          "output_type": "stream",
          "name": "stdout",
          "text": [
            "Model: \"sequential\"\n",
            "_________________________________________________________________\n",
            " Layer (type)                Output Shape              Param #   \n",
            "=================================================================\n",
            " conv2d (Conv2D)             (None, 298, 298, 16)      448       \n",
            "                                                                 \n",
            " max_pooling2d (MaxPooling2  (None, 149, 149, 16)      0         \n",
            " D)                                                              \n",
            "                                                                 \n",
            " conv2d_1 (Conv2D)           (None, 147, 147, 16)      2320      \n",
            "                                                                 \n",
            " max_pooling2d_1 (MaxPoolin  (None, 73, 73, 16)        0         \n",
            " g2D)                                                            \n",
            "                                                                 \n",
            " conv2d_2 (Conv2D)           (None, 71, 71, 32)        4640      \n",
            "                                                                 \n",
            " max_pooling2d_2 (MaxPoolin  (None, 35, 35, 32)        0         \n",
            " g2D)                                                            \n",
            "                                                                 \n",
            " conv2d_3 (Conv2D)           (None, 33, 33, 64)        18496     \n",
            "                                                                 \n",
            " max_pooling2d_3 (MaxPoolin  (None, 16, 16, 64)        0         \n",
            " g2D)                                                            \n",
            "                                                                 \n",
            " conv2d_4 (Conv2D)           (None, 14, 14, 64)        36928     \n",
            "                                                                 \n",
            " max_pooling2d_4 (MaxPoolin  (None, 7, 7, 64)          0         \n",
            " g2D)                                                            \n",
            "                                                                 \n",
            " flatten (Flatten)           (None, 3136)              0         \n",
            "                                                                 \n",
            " dense (Dense)               (None, 512)               1606144   \n",
            "                                                                 \n",
            " dropout (Dropout)           (None, 512)               0         \n",
            "                                                                 \n",
            " dense_1 (Dense)             (None, 1)                 513       \n",
            "                                                                 \n",
            "=================================================================\n",
            "Total params: 1669489 (6.37 MB)\n",
            "Trainable params: 1669489 (6.37 MB)\n",
            "Non-trainable params: 0 (0.00 Byte)\n",
            "_________________________________________________________________\n"
          ]
        }
      ],
      "source": [
        "model.summary()"
      ]
    },
    {
      "cell_type": "code",
      "execution_count": null,
      "metadata": {
        "id": "ViI7ue5vP3yj"
      },
      "outputs": [],
      "source": [
        "optimizer=tf.keras.optimizers.Adam(learning_rate=0.001)\n",
        "model.compile(optimizer=optimizer,\n",
        "loss='binary_crossentropy',\n",
        "metrics=['accuracy'])"
      ]
    },
    {
      "cell_type": "code",
      "execution_count": null,
      "metadata": {
        "colab": {
          "base_uri": "https://localhost:8080/"
        },
        "id": "Wc64_-xqRLHl",
        "outputId": "095854d4-347b-41f5-e99c-5eca0d3caff1"
      },
      "outputs": [
        {
          "output_type": "stream",
          "name": "stdout",
          "text": [
            "Found 633 images belonging to 2 classes.\n",
            "Found 200 images belonging to 2 classes.\n"
          ]
        }
      ],
      "source": [
        "from tensorflow.keras.preprocessing.image import ImageDataGenerator\n",
        "\n",
        "# All train images will be rescaled by 1./255\n",
        "train_datagen=ImageDataGenerator (rescale=1./255)\n",
        "\n",
        "#Flow training images in batches of 128 using train datagen generator\n",
        "\n",
        "train_generator=train_datagen.flow_from_directory(train_path, #This is the source directory for training images\n",
        "                                                  target_size=(300, 300), # All images will be resized to 158x158\n",
        "                                                  batch_size=32,\n",
        "# Since we use binary_crossentropy loss, we need binary labels\n",
        "                                                  class_mode='binary')\n",
        "\n",
        "# All test images will be rescaled by 1./255\n",
        "\n",
        "test_datagen=ImageDataGenerator(rescale=1/255)\n",
        "#apply predefined specification to test dataset\n",
        "test_set=test_datagen.flow_from_directory(valid_path, target_size=(300, 300),batch_size = 32,class_mode='binary')"
      ]
    },
    {
      "cell_type": "code",
      "execution_count": null,
      "metadata": {
        "colab": {
          "base_uri": "https://localhost:8080/"
        },
        "id": "cyeXYyu9V2gr",
        "outputId": "2ff85bd3-087c-4c4f-c7ac-2dae35e8a4da"
      },
      "outputs": [
        {
          "output_type": "stream",
          "name": "stdout",
          "text": [
            "Epoch 1/30\n",
            "20/20 [==============================] - 203s 10s/step - loss: 0.6668 - accuracy: 0.6003 - val_loss: 0.6860 - val_accuracy: 0.5000\n",
            "Epoch 2/30\n",
            "20/20 [==============================] - 55s 3s/step - loss: 0.6639 - accuracy: 0.6066 - val_loss: 0.7262 - val_accuracy: 0.5000\n",
            "Epoch 3/30\n",
            "20/20 [==============================] - 51s 3s/step - loss: 0.6435 - accuracy: 0.6066 - val_loss: 0.7140 - val_accuracy: 0.5000\n",
            "Epoch 4/30\n",
            "20/20 [==============================] - 55s 3s/step - loss: 0.6238 - accuracy: 0.6319 - val_loss: 0.6645 - val_accuracy: 0.5650\n",
            "Epoch 5/30\n",
            "20/20 [==============================] - 51s 3s/step - loss: 0.6072 - accuracy: 0.6588 - val_loss: 0.6657 - val_accuracy: 0.6100\n",
            "Epoch 6/30\n",
            "20/20 [==============================] - 55s 3s/step - loss: 0.5850 - accuracy: 0.7125 - val_loss: 0.6778 - val_accuracy: 0.5450\n",
            "Epoch 7/30\n",
            "20/20 [==============================] - 57s 3s/step - loss: 0.5379 - accuracy: 0.7077 - val_loss: 0.6638 - val_accuracy: 0.6150\n",
            "Epoch 8/30\n",
            "20/20 [==============================] - 54s 3s/step - loss: 0.5281 - accuracy: 0.7441 - val_loss: 0.6800 - val_accuracy: 0.6500\n",
            "Epoch 9/30\n",
            "20/20 [==============================] - 53s 3s/step - loss: 0.4510 - accuracy: 0.7820 - val_loss: 0.6611 - val_accuracy: 0.6750\n",
            "Epoch 10/30\n",
            "20/20 [==============================] - 59s 3s/step - loss: 0.4332 - accuracy: 0.8199 - val_loss: 0.6783 - val_accuracy: 0.6300\n",
            "Epoch 11/30\n",
            "20/20 [==============================] - 57s 3s/step - loss: 0.3983 - accuracy: 0.8231 - val_loss: 0.8368 - val_accuracy: 0.6250\n",
            "Epoch 12/30\n",
            "20/20 [==============================] - 54s 3s/step - loss: 0.2649 - accuracy: 0.8863 - val_loss: 1.0330 - val_accuracy: 0.6100\n",
            "Epoch 13/30\n",
            "20/20 [==============================] - 58s 3s/step - loss: 0.2359 - accuracy: 0.8973 - val_loss: 0.8369 - val_accuracy: 0.6550\n",
            "Epoch 14/30\n",
            "20/20 [==============================] - 59s 3s/step - loss: 0.1762 - accuracy: 0.9336 - val_loss: 1.0086 - val_accuracy: 0.6150\n",
            "Epoch 15/30\n",
            "20/20 [==============================] - 52s 3s/step - loss: 0.1246 - accuracy: 0.9558 - val_loss: 1.4191 - val_accuracy: 0.6300\n",
            "Epoch 16/30\n",
            "20/20 [==============================] - 56s 3s/step - loss: 0.0693 - accuracy: 0.9826 - val_loss: 1.7400 - val_accuracy: 0.6200\n",
            "Epoch 17/30\n",
            "20/20 [==============================] - 53s 3s/step - loss: 0.0455 - accuracy: 0.9905 - val_loss: 1.4599 - val_accuracy: 0.6550\n",
            "Epoch 18/30\n",
            "20/20 [==============================] - 58s 3s/step - loss: 0.0253 - accuracy: 0.9953 - val_loss: 1.7634 - val_accuracy: 0.6500\n",
            "Epoch 19/30\n",
            "20/20 [==============================] - 53s 3s/step - loss: 0.0157 - accuracy: 0.9968 - val_loss: 2.4836 - val_accuracy: 0.6300\n",
            "Epoch 20/30\n",
            "20/20 [==============================] - 54s 3s/step - loss: 0.0335 - accuracy: 0.9921 - val_loss: 2.0632 - val_accuracy: 0.6450\n",
            "Epoch 21/30\n",
            "20/20 [==============================] - 53s 3s/step - loss: 0.0369 - accuracy: 0.9842 - val_loss: 2.1613 - val_accuracy: 0.6250\n",
            "Epoch 22/30\n",
            "20/20 [==============================] - 54s 3s/step - loss: 0.0217 - accuracy: 0.9953 - val_loss: 2.4087 - val_accuracy: 0.6350\n",
            "Epoch 23/30\n",
            "20/20 [==============================] - 54s 3s/step - loss: 0.0087 - accuracy: 1.0000 - val_loss: 2.3021 - val_accuracy: 0.6350\n",
            "Epoch 24/30\n",
            "20/20 [==============================] - 57s 3s/step - loss: 0.0111 - accuracy: 0.9984 - val_loss: 2.8806 - val_accuracy: 0.6650\n",
            "Epoch 25/30\n",
            "20/20 [==============================] - 52s 3s/step - loss: 0.0116 - accuracy: 0.9984 - val_loss: 2.5795 - val_accuracy: 0.6450\n",
            "Epoch 26/30\n",
            "20/20 [==============================] - 55s 3s/step - loss: 0.0245 - accuracy: 0.9953 - val_loss: 2.5005 - val_accuracy: 0.6450\n",
            "Epoch 27/30\n",
            "20/20 [==============================] - 54s 3s/step - loss: 0.0152 - accuracy: 0.9953 - val_loss: 2.5687 - val_accuracy: 0.5900\n",
            "Epoch 28/30\n",
            "20/20 [==============================] - 59s 3s/step - loss: 0.0598 - accuracy: 0.9795 - val_loss: 1.7298 - val_accuracy: 0.6500\n",
            "Epoch 29/30\n",
            "20/20 [==============================] - 53s 3s/step - loss: 0.0501 - accuracy: 0.9826 - val_loss: 2.6448 - val_accuracy: 0.6150\n",
            "Epoch 30/30\n",
            "20/20 [==============================] - 52s 3s/step - loss: 0.0394 - accuracy: 0.9905 - val_loss: 2.3526 - val_accuracy: 0.6000\n"
          ]
        }
      ],
      "source": [
        "history=model.fit(train_generator,\n",
        "          steps_per_epoch=20,\n",
        "          epochs=30,\n",
        "          validation_data=test_set,\n",
        "          validation_steps=7\n",
        "          )"
      ]
    },
    {
      "cell_type": "code",
      "execution_count": null,
      "metadata": {
        "colab": {
          "base_uri": "https://localhost:8080/",
          "height": 175
        },
        "id": "eG-27zlgYXGe",
        "outputId": "b367e1fc-6972-4cb3-9f1b-b466a9c35d9d"
      },
      "outputs": [
        {
          "output_type": "error",
          "ename": "NameError",
          "evalue": "ignored",
          "traceback": [
            "\u001b[0;31m---------------------------------------------------------------------------\u001b[0m",
            "\u001b[0;31mNameError\u001b[0m                                 Traceback (most recent call last)",
            "\u001b[0;32m<ipython-input-1-d643d3542344>\u001b[0m in \u001b[0;36m<cell line: 1>\u001b[0;34m()\u001b[0m\n\u001b[0;32m----> 1\u001b[0;31m \u001b[0mmodel\u001b[0m\u001b[0;34m.\u001b[0m\u001b[0msave_weights\u001b[0m\u001b[0;34m(\u001b[0m\u001b[0;34m'first_30.h5'\u001b[0m\u001b[0;34m)\u001b[0m\u001b[0;34m\u001b[0m\u001b[0;34m\u001b[0m\u001b[0m\n\u001b[0m",
            "\u001b[0;31mNameError\u001b[0m: name 'model' is not defined"
          ]
        }
      ],
      "source": [
        "model.save_weights('first_30.h5')"
      ]
    },
    {
      "cell_type": "code",
      "execution_count": null,
      "metadata": {
        "colab": {
          "base_uri": "https://localhost:8080/",
          "height": 245
        },
        "id": "i551TbLbYc8e",
        "outputId": "b4055972-bd46-49f6-f2b1-8cd7d61873ea"
      },
      "outputs": [
        {
          "ename": "NameError",
          "evalue": "ignored",
          "output_type": "error",
          "traceback": [
            "\u001b[0;31m---------------------------------------------------------------------------\u001b[0m",
            "\u001b[0;31mNameError\u001b[0m                                 Traceback (most recent call last)",
            "\u001b[0;32m<ipython-input-5-0a80830af073>\u001b[0m in \u001b[0;36m<cell line: 3>\u001b[0;34m()\u001b[0m\n\u001b[1;32m      1\u001b[0m \u001b[0;32mimport\u001b[0m \u001b[0mmatplotlib\u001b[0m\u001b[0;34m.\u001b[0m\u001b[0mpyplot\u001b[0m \u001b[0;32mas\u001b[0m \u001b[0mplt\u001b[0m\u001b[0;34m\u001b[0m\u001b[0;34m\u001b[0m\u001b[0m\n\u001b[1;32m      2\u001b[0m \u001b[0;34m\u001b[0m\u001b[0m\n\u001b[0;32m----> 3\u001b[0;31m \u001b[0mplt\u001b[0m\u001b[0;34m.\u001b[0m\u001b[0mplot\u001b[0m\u001b[0;34m(\u001b[0m\u001b[0mhistory\u001b[0m\u001b[0;34m.\u001b[0m\u001b[0mhistory\u001b[0m\u001b[0;34m[\u001b[0m\u001b[0;34m'loss'\u001b[0m\u001b[0;34m]\u001b[0m\u001b[0;34m,\u001b[0m\u001b[0mlabel\u001b[0m\u001b[0;34m=\u001b[0m\u001b[0;34m'train_loss'\u001b[0m\u001b[0;34m)\u001b[0m\u001b[0;34m\u001b[0m\u001b[0;34m\u001b[0m\u001b[0m\n\u001b[0m\u001b[1;32m      4\u001b[0m \u001b[0mplt\u001b[0m\u001b[0;34m.\u001b[0m\u001b[0mplot\u001b[0m\u001b[0;34m(\u001b[0m\u001b[0mhistory\u001b[0m\u001b[0;34m.\u001b[0m\u001b[0mhistory\u001b[0m\u001b[0;34m[\u001b[0m\u001b[0;34m'val_loss'\u001b[0m\u001b[0;34m]\u001b[0m\u001b[0;34m,\u001b[0m\u001b[0mlabel\u001b[0m\u001b[0;34m=\u001b[0m\u001b[0;34m'val loss'\u001b[0m\u001b[0;34m)\u001b[0m\u001b[0;34m\u001b[0m\u001b[0;34m\u001b[0m\u001b[0m\n\u001b[1;32m      5\u001b[0m \u001b[0mplt\u001b[0m\u001b[0;34m.\u001b[0m\u001b[0mlegend\u001b[0m\u001b[0;34m(\u001b[0m\u001b[0;34m)\u001b[0m\u001b[0;34m\u001b[0m\u001b[0;34m\u001b[0m\u001b[0m\n",
            "\u001b[0;31mNameError\u001b[0m: name 'history' is not defined"
          ]
        }
      ],
      "source": [
        "import matplotlib.pyplot as plt\n",
        "\n",
        "plt.plot(history.history['loss'],label='train_loss')\n",
        "plt.plot(history.history['val_loss'],label='val loss')\n",
        "plt.legend()\n",
        "plt.show()\n",
        "plt.savefig('LossVal_loss')\n",
        "\n",
        "plt.plot(history.history['accuracy'],label='train acc')\n",
        "plt.plot(history.history['val_accuracy'],label='val acc')\n",
        "plt.legend()\n",
        "plt.show()\n",
        "plt.savefig('AccVal_acc')\n"
      ]
    }
  ],
  "metadata": {
    "colab": {
      "provenance": [],
      "authorship_tag": "ABX9TyMic1S68zLOBGYccsX7OKmS",
      "include_colab_link": true
    },
    "kernelspec": {
      "display_name": "Python 3",
      "name": "python3"
    },
    "language_info": {
      "name": "python"
    }
  },
  "nbformat": 4,
  "nbformat_minor": 0
}